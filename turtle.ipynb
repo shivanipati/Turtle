{
 "cells": [
  {
   "cell_type": "code",
   "execution_count": 9,
   "id": "2dae9e45",
   "metadata": {},
   "outputs": [
    {
     "ename": "Terminator",
     "evalue": "",
     "output_type": "error",
     "traceback": [
      "\u001b[1;31m---------------------------------------------------------------------------\u001b[0m",
      "\u001b[1;31mTerminator\u001b[0m                                Traceback (most recent call last)",
      "Cell \u001b[1;32mIn[9], line 7\u001b[0m\n\u001b[0;32m      5\u001b[0m \u001b[38;5;28;01mfor\u001b[39;00m i \u001b[38;5;129;01min\u001b[39;00m \u001b[38;5;28mrange\u001b[39m(\u001b[38;5;241m500\u001b[39m):\n\u001b[0;32m      6\u001b[0m     turtle\u001b[38;5;241m.\u001b[39mcolor(colors[i\u001b[38;5;241m%\u001b[39m\u001b[38;5;241m3\u001b[39m])\n\u001b[1;32m----> 7\u001b[0m     turtle\u001b[38;5;241m.\u001b[39mforward(i\u001b[38;5;241m*\u001b[39m\u001b[38;5;241m4\u001b[39m)\n\u001b[0;32m      8\u001b[0m     turtle\u001b[38;5;241m.\u001b[39mleft(\u001b[38;5;241m150\u001b[39m)\n\u001b[0;32m      9\u001b[0m     turtle\u001b[38;5;241m.\u001b[39mwidth(\u001b[38;5;241m2\u001b[39m)\n",
      "File \u001b[1;32m<string>:5\u001b[0m, in \u001b[0;36mforward\u001b[1;34m(distance)\u001b[0m\n",
      "\u001b[1;31mTerminator\u001b[0m: "
     ]
    }
   ],
   "source": [
    "import turtle\n",
    "colors = ('red','yellow','pink','blue')\n",
    "turtle.bgcolor('black')\n",
    "turtle.speed(20)\n",
    "for i in range(500):\n",
    "    turtle.color(colors[i%3])\n",
    "    turtle.forward(i*4)\n",
    "    turtle.left(150)\n",
    "    turtle.width(2)"
   ]
  }
 ],
 "metadata": {
  "kernelspec": {
   "display_name": "Python 3 (ipykernel)",
   "language": "python",
   "name": "python3"
  },
  "language_info": {
   "codemirror_mode": {
    "name": "ipython",
    "version": 3
   },
   "file_extension": ".py",
   "mimetype": "text/x-python",
   "name": "python",
   "nbconvert_exporter": "python",
   "pygments_lexer": "ipython3",
   "version": "3.11.3"
  }
 },
 "nbformat": 4,
 "nbformat_minor": 5
}
