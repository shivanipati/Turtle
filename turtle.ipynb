{
 "cells": [
  {
   "cell_type": "code",
   "execution_count": 11,
   "id": "3cc089f9",
   "metadata": {},
   "outputs": [],
   "source": [
    "import turtle\n",
    "colors = ('red','yellow','pink','blue')\n",
    "turtle.bgcolor('black')\n",
    "turtle.speed(20)\n",
    "for i in range(500):\n",
    "    turtle.color(colors[i%3])\n",
    "    turtle.forward(i*4)\n",
    "    turtle.left(150)\n",
    "    turtle.width(2)"
   ]
  }
 ],
 "metadata": {
  "kernelspec": {
   "display_name": "Python 3 (ipykernel)",
   "language": "python",
   "name": "python3"
  },
  "language_info": {
   "codemirror_mode": {
    "name": "ipython",
    "version": 3
   },
   "file_extension": ".py",
   "mimetype": "text/x-python",
   "name": "python",
   "nbconvert_exporter": "python",
   "pygments_lexer": "ipython3",
   "version": "3.11.3"
  }
 },
 "nbformat": 4,
 "nbformat_minor": 5
}
